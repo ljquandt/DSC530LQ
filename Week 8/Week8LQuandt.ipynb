{
 "cells": [
  {
   "cell_type": "markdown",
   "metadata": {},
   "source": [
    "# Examples and Exercises from Think Stats, 2nd Edition\n",
    "\n",
    "http://thinkstats2.com\n",
    "\n",
    "Copyright 2016 Allen B. Downey\n",
    "\n",
    "MIT License: https://opensource.org/licenses/MIT\n"
   ]
  },
  {
   "cell_type": "code",
   "execution_count": 102,
   "metadata": {},
   "outputs": [],
   "source": [
    "from __future__ import print_function, division\n",
    "\n",
    "%matplotlib inline\n",
    "\n",
    "import numpy as np\n",
    "\n",
    "import random\n",
    "\n",
    "import thinkstats2\n",
    "import thinkplot\n",
    "import brfss"
   ]
  },
  {
   "cell_type": "markdown",
   "metadata": {},
   "source": [
    "## Exercises"
   ]
  },
  {
   "cell_type": "markdown",
   "metadata": {},
   "source": [
    "**Exercise:** As sample size increases, the power of a hypothesis test increases, which means it is more likely to be positive if the effect is real. Conversely, as sample size decreases, the test is less likely to be positive even if the effect is real.\n",
    "\n",
    "To investigate this behavior, run the tests in this chapter with different subsets of the NSFG data. You can use `thinkstats2.SampleRows` to select a random subset of the rows in a DataFrame.\n",
    "\n",
    "What happens to the p-values of these tests as sample size decreases? What is the smallest sample size that yields a positive test?"
   ]
  },
  {
   "cell_type": "code",
   "execution_count": 95,
   "metadata": {},
   "outputs": [],
   "source": [
    "class HypothesisTest(object):\n",
    "\n",
    "    def __init__(self, data):\n",
    "        self.data = data\n",
    "        self.MakeModel()\n",
    "        self.actual = self.TestStatistic(data)\n",
    "\n",
    "    def PValue(self, iters=1000):\n",
    "        self.test_stats = [self.TestStatistic(self.RunModel()) \n",
    "                           for _ in range(iters)]\n",
    "\n",
    "        count = sum(1 for x in self.test_stats if x >= self.actual)\n",
    "        return count / iters\n",
    "\n",
    "    def TestStatistic(self, data):\n",
    "        raise UnimplementedMethodException()\n",
    "\n",
    "    def MakeModel(self):\n",
    "        pass\n",
    "\n",
    "    def RunModel(self):\n",
    "        raise UnimplementedMethodException()\n",
    "        \n",
    "class DiffMeansPermute(thinkstats2.HypothesisTest):\n",
    "\n",
    "    def TestStatistic(self, data):\n",
    "        group1, group2 = data\n",
    "        test_stat = abs(group1.mean() - group2.mean())\n",
    "        return test_stat\n",
    "\n",
    "    def MakeModel(self):\n",
    "        group1, group2 = self.data\n",
    "        self.n, self.m = len(group1), len(group2)\n",
    "        self.pool = np.hstack((group1, group2))\n",
    "\n",
    "    def RunModel(self):\n",
    "        np.random.shuffle(self.pool)\n",
    "        data = self.pool[:self.n], self.pool[self.n:]\n",
    "        return data\n",
    "    \n",
    "class CorrelationPermute(thinkstats2.HypothesisTest):\n",
    "\n",
    "    def TestStatistic(self, data):\n",
    "        xs, ys = data\n",
    "        test_stat = abs(thinkstats2.Corr(xs, ys))\n",
    "        return test_stat\n",
    "\n",
    "    def RunModel(self):\n",
    "        xs, ys = self.data\n",
    "        xs = np.random.permutation(xs)\n",
    "        return xs, ys\n",
    "    \n",
    "class PregLengthTest(thinkstats2.HypothesisTest):\n",
    "\n",
    "    def MakeModel(self):\n",
    "        firsts, others = self.data\n",
    "        self.n = len(firsts)\n",
    "        self.pool = np.hstack((firsts, others))\n",
    "\n",
    "        pmf = thinkstats2.Pmf(self.pool)\n",
    "        self.values = range(35, 44)\n",
    "        self.expected_probs = np.array(pmf.Probs(self.values))\n",
    "\n",
    "    def RunModel(self):\n",
    "        np.random.shuffle(self.pool)\n",
    "        data = self.pool[:self.n], self.pool[self.n:]\n",
    "        return data\n",
    "    \n",
    "    def TestStatistic(self, data):\n",
    "        firsts, others = data\n",
    "        stat = self.ChiSquared(firsts) + self.ChiSquared(others)\n",
    "        return stat\n",
    "\n",
    "    def ChiSquared(self, lengths):\n",
    "        hist = thinkstats2.Hist(lengths)\n",
    "        observed = np.array(hist.Freqs(self.values))\n",
    "        expected = self.expected_probs * len(lengths)\n",
    "        stat = sum((observed - expected)**2 / expected)\n",
    "        return stat"
   ]
  },
  {
   "cell_type": "code",
   "execution_count": 96,
   "metadata": {},
   "outputs": [],
   "source": [
    "# Solution\n",
    "\n",
    "def PTests(live, iters=1000):\n",
    "   \n",
    "    n = len(live)\n",
    "    firsts = live[live.birthord == 1]\n",
    "    others = live[live.birthord != 1]\n",
    "\n",
    "    data = firsts.prglngth.values, others.prglngth.values\n",
    "    ht = DiffMeansPermute(data)\n",
    "    p1 = ht.PValue(iters=iters)\n",
    "\n",
    "    data = (firsts.totalwgt_lb.dropna().values,\n",
    "            others.totalwgt_lb.dropna().values)\n",
    "    ht = DiffMeansPermute(data)\n",
    "    p2 = ht.PValue(iters=iters)\n",
    "\n",
    "    live2 = live.dropna(subset=['agepreg', 'totalwgt_lb'])\n",
    "    data = live2.agepreg.values, live2.totalwgt_lb.values\n",
    "    ht = CorrelationPermute(data)\n",
    "    p3 = ht.PValue(iters=iters)\n",
    "\n",
    "    data = firsts.prglngth.values, others.prglngth.values\n",
    "    ht = PregLengthTest(data)\n",
    "    p4 = ht.PValue(iters=iters)\n",
    "    print(\"Sample:\", \"Prglngth p-value:\", \"BrthWgt p-value:\", \"Corr age/brthwgt:\", \"PrgLngh chi test:\")\n",
    "    print('%d\\t%0.2f\\t%0.2f\\t%0.2f\\t%0.2f' % (n, p1, p2, p3, p4))"
   ]
  },
  {
   "cell_type": "code",
   "execution_count": 99,
   "metadata": {},
   "outputs": [
    {
     "name": "stdout",
     "output_type": "stream",
     "text": [
      "Sample: Prglngth p-value: BrthWgt p-value: Corr age/brthwgt: PrgLngh chi test:\n",
      "9148\t0.18\t0.00\t0.00\t0.00\n",
      "Sample: Prglngth p-value: BrthWgt p-value: Corr age/brthwgt: PrgLngh chi test:\n",
      "4574\t0.10\t0.00\t0.00\t0.00\n",
      "Sample: Prglngth p-value: BrthWgt p-value: Corr age/brthwgt: PrgLngh chi test:\n",
      "2287\t0.96\t0.01\t0.04\t0.00\n",
      "Sample: Prglngth p-value: BrthWgt p-value: Corr age/brthwgt: PrgLngh chi test:\n",
      "1143\t0.39\t0.30\t0.23\t0.00\n",
      "Sample: Prglngth p-value: BrthWgt p-value: Corr age/brthwgt: PrgLngh chi test:\n",
      "571\t0.24\t0.32\t0.02\t0.63\n",
      "Sample: Prglngth p-value: BrthWgt p-value: Corr age/brthwgt: PrgLngh chi test:\n",
      "285\t0.28\t0.29\t0.00\t0.73\n",
      "Sample: Prglngth p-value: BrthWgt p-value: Corr age/brthwgt: PrgLngh chi test:\n",
      "142\t0.67\t0.23\t0.77\t0.00\n",
      "Sample: Prglngth p-value: BrthWgt p-value: Corr age/brthwgt: PrgLngh chi test:\n",
      "71\t0.73\t0.49\t0.21\t0.92\n"
     ]
    },
    {
     "name": "stderr",
     "output_type": "stream",
     "text": [
      "C:\\Users\\logan\\AppData\\Local\\Temp/ipykernel_17992/2685863955.py:78: RuntimeWarning: invalid value encountered in true_divide\n",
      "  stat = sum((observed - expected)**2 / expected)\n"
     ]
    }
   ],
   "source": [
    "n = len(live)\n",
    "for _ in range(8):\n",
    "    sample = thinkstats2.SampleRows(live, n)\n",
    "    PTests(sample)\n",
    "    n //= 2"
   ]
  },
  {
   "cell_type": "code",
   "execution_count": 26,
   "metadata": {},
   "outputs": [],
   "source": [
    "## range = 8\n",
    "# Sample: Prglngth p-value: BrthWgt p-value: Corr age/brthwgt: PrgLngh chi test:\n",
    "# 9148\t0.19\t0.00\t0.00\t0.00\n",
    "# Sample: Prglngth p-value: BrthWgt p-value: Corr age/brthwgt: PrgLngh chi test:\n",
    "# 4574\t0.70\t0.00\t0.00\t0.00\n",
    "# Sample: Prglngth p-value: BrthWgt p-value: Corr age/brthwgt: PrgLngh chi test:\n",
    "# 2287\t0.97\t0.12\t0.00\t0.00\n",
    "# Sample: Prglngth p-value: BrthWgt p-value: Corr age/brthwgt: PrgLngh chi test:\n",
    "# 1143\t0.74\t0.02\t0.00\t0.30\n",
    "# Sample: Prglngth p-value: BrthWgt p-value: Corr age/brthwgt: PrgLngh chi test:\n",
    "# 571\t0.03\t0.33\t0.04\t0.05\n",
    "# Sample: Prglngth p-value: BrthWgt p-value: Corr age/brthwgt: PrgLngh chi test:\n",
    "# 285\t0.16\t0.62\t0.75\t0.10\n",
    "# Sample: Prglngth p-value: BrthWgt p-value: Corr age/brthwgt: PrgLngh chi test:\n",
    "# 142\t0.42\t0.48\t0.00\t0.00\n",
    "# Sample: Prglngth p-value: BrthWgt p-value: Corr age/brthwgt: PrgLngh chi test:\n",
    "# 71\t0.59\t0.66\t0.26\t0.53\n",
    "\n",
    "\n",
    "\n",
    "\n",
    "\n",
    "## range = 3\n",
    "# Sample: Prglngth p-value: BrthWgt p-value: Corr age/brthwgt: PrgLngh chi test:\n",
    "# 9148\t0.16\t0.00\t0.00\t0.00\n",
    "# Sample: Prglngth p-value: BrthWgt p-value: Corr age/brthwgt: PrgLngh chi test:\n",
    "# 4574\t0.31\t0.00\t0.00\t0.00\n",
    "# Sample: Prglngth p-value: BrthWgt p-value: Corr age/brthwgt: PrgLngh chi test:\n",
    "# 2287\t0.16\t0.11\t0.00\t0.00\n",
    "\n",
    "\n",
    "# Tests that are positive with large sample sizes generally become negative as sample sizes decrease \n",
    "# however some tests still provide positive results at smaller sample sizes."
   ]
  },
  {
   "cell_type": "markdown",
   "metadata": {},
   "source": [
    "# Exercises\n",
    "\n",
    "**Exercise:** Using the data from the BRFSS, compute the linear least squares fit for log(weight) versus height. How would you best present the estimated parameters for a model like this where one of the variables is log-transformed? If you were trying to guess someone’s weight, how much would it help to know their height?\n",
    "\n",
    "Like the NSFG, the BRFSS oversamples some groups and provides a sampling weight for each respondent. In the BRFSS data, the variable name for these weights is totalwt. Use resampling, with and without weights, to estimate the mean height of respondents in the BRFSS, the standard error of the mean, and a 90% confidence interval. How much does correct weighting affect the estimates?"
   ]
  },
  {
   "cell_type": "markdown",
   "metadata": {},
   "source": [
    "Read the BRFSS data and extract heights and log weights."
   ]
  },
  {
   "cell_type": "code",
   "execution_count": 106,
   "metadata": {},
   "outputs": [],
   "source": [
    "from thinkstats2 import Mean, MeanVar, Var, Std, Cov\n",
    "\n",
    "def LeastSquares(xs, ys):\n",
    "    meanx, varx = MeanVar(xs)\n",
    "    meany = Mean(ys)\n",
    "\n",
    "    slope = Cov(xs, ys, meanx, meany) / varx\n",
    "    inter = meany - slope * meanx\n",
    "\n",
    "    return inter, slope\n",
    "\n",
    "def FitLine(xs, inter, slope):\n",
    "    fit_xs = np.sort(xs)\n",
    "    fit_ys = inter + slope * fit_xs\n",
    "    return fit_xs, fit_ys\n",
    "def Residuals(xs, ys, inter, slope):\n",
    "    xs = np.asarray(xs)\n",
    "    ys = np.asarray(ys)\n",
    "    res = ys - (inter + slope * xs)\n",
    "    return res\n",
    "def PlotPercentiles(age_means, cdfs):\n",
    "    thinkplot.PrePlot(3)\n",
    "    for percent in [75, 50, 25]:\n",
    "        weight_percentiles = [cdf.Percentile(percent) for cdf in cdfs]\n",
    "        label = '%dth' % percent\n",
    "        thinkplot.Plot(age_means, weight_percentiles, label=label)\n",
    "\n",
    "def SampleRows(df, nrows, replace=False):\n",
    "    \"\"\"Choose a sample of rows from a DataFrame.\n",
    "\n",
    "    df: DataFrame\n",
    "    nrows: number of rows\n",
    "    replace: whether to sample with replacement\n",
    "\n",
    "    returns: DataDf\n",
    "    \"\"\"\n",
    "    indices = np.random.choice(df.index, nrows, replace=replace)\n",
    "    sample = df.loc[indices]\n",
    "    return sample\n",
    "\n",
    "def ResampleRows(df):\n",
    "    \"\"\"Resamples rows from a DataFrame.\n",
    "\n",
    "    df: DataFrame\n",
    "\n",
    "    returns: DataFrame\n",
    "    \"\"\"\n",
    "    return SampleRows(df, len(df), replace=True)\n",
    "def SamplingDistributions(live, iters=101):\n",
    "    t = []\n",
    "    for _ in range(iters):\n",
    "        sample = ResampleRows(live)\n",
    "        ages = sample.agepreg\n",
    "        weights = sample.totalwgt_lb\n",
    "        estimates = LeastSquares(ages, weights)\n",
    "        t.append(estimates)\n",
    "\n",
    "    inters, slopes = zip(*t)\n",
    "    return inters, slopes\n",
    "def Summarize(estimates, actual=None):\n",
    "    mean = Mean(estimates)\n",
    "    stderr = Std(estimates, mu=actual)\n",
    "    cdf = thinkstats2.Cdf(estimates)\n",
    "    ci = cdf.ConfidenceInterval(90)\n",
    "    print('mean, SE, CI', mean, stderr, ci)\n",
    "def PlotConfidenceIntervals(xs, inters, slopes, percent=90, **options):\n",
    "    fys_seq = []\n",
    "    for inter, slope in zip(inters, slopes):\n",
    "        fxs, fys = FitLine(xs, inter, slope)\n",
    "        fys_seq.append(fys)\n",
    "\n",
    "    p = (100 - percent) / 2\n",
    "    percents = p, 100 - p\n",
    "    low, high = thinkstats2.PercentileRows(fys_seq, percents)\n",
    "    thinkplot.FillBetween(fxs, low, high, **options)\n",
    "def CoefDetermination(ys, res):\n",
    "    return 1 - Var(res) / Var(ys)\n",
    "\n",
    "class SlopeTest(thinkstats2.HypothesisTest):\n",
    "\n",
    "    def TestStatistic(self, data):\n",
    "        ages, weights = data\n",
    "        _, slope = thinkstats2.LeastSquares(ages, weights)\n",
    "        return slope\n",
    "\n",
    "    def MakeModel(self):\n",
    "        _, weights = self.data\n",
    "        self.ybar = weights.mean()\n",
    "        self.res = weights - self.ybar\n",
    "\n",
    "    def RunModel(self):\n",
    "        ages, _ = self.data\n",
    "        weights = self.ybar + np.random.permutation(self.res)\n",
    "        return ages, weights\n",
    "def ResampleRowsWeighted(df, column='finalwgt'):\n",
    "    weights = df[column]\n",
    "    cdf = thinkstats2.Cdf(dict(weights))\n",
    "    indices = cdf.Sample(len(weights))\n",
    "    sample = df.loc[indices]\n",
    "    return sample"
   ]
  },
  {
   "cell_type": "code",
   "execution_count": 104,
   "metadata": {},
   "outputs": [],
   "source": [
    "df = brfss.ReadBrfss(nrows=None)\n",
    "df = df.dropna(subset=['htm3','wtkg2'])\n",
    "heights, weights = df.htm3, df.wtkg2\n",
    "log_weights = np.log10(weights)"
   ]
  },
  {
   "cell_type": "code",
   "execution_count": 110,
   "metadata": {},
   "outputs": [
    {
     "data": {
      "text/plain": [
       "(0.9930804163917689, 0.005281454169418064)"
      ]
     },
     "execution_count": 110,
     "metadata": {},
     "output_type": "execute_result"
    }
   ],
   "source": [
    "# Intercept and Slope\n",
    "\n",
    "inter, slope = thinkstats2.LeastSquares(heights, log_weights)\n",
    "inter, slope"
   ]
  },
  {
   "cell_type": "code",
   "execution_count": 112,
   "metadata": {},
   "outputs": [
    {
     "data": {
      "image/png": "[encoded data removed]",
      "text/plain": [
       "<Figure size 432x288 with 1 Axes>"
      ]
     },
     "metadata": {
      "needs_background": "light"
     },
     "output_type": "display_data"
    }
   ],
   "source": [
    "# Scatterplots\n",
    "thinkplot.Scatter(heights,log_weights,alpha=0.01,s=5)\n",
    "fxs, fys = thinkstats2.FitLine(heights,inter,slope)\n",
    "thinkplot.Plot(fxs, fys, color = 'black')\n",
    "thinkplot.Config(xlabel='height (cm)', ylabel= \"log10 weights (kgs)\", legend=False)"
   ]
  },
  {
   "cell_type": "code",
   "execution_count": 121,
   "metadata": {},
   "outputs": [
    {
     "data": {
      "image/png": "[encoded data removed]",
      "text/plain": [
       "<Figure size 432x288 with 1 Axes>"
      ]
     },
     "metadata": {
      "needs_background": "light"
     },
     "output_type": "display_data"
    }
   ],
   "source": [
    "#Scatterplot 2\n",
    "thinkplot.Scatter(heights, weights, alpha=0.01, s=5)\n",
    "fxs, fys = thinkstats2.FitLine(heights, inter, slope)\n",
    "thinkplot.Plot(fxs, 10**fys, color='black')\n",
    "thinkplot.Config(xlabel='height (cm)', ylabel='weights (kgs)', legend=False)"
   ]
  },
  {
   "cell_type": "code",
   "execution_count": 122,
   "metadata": {},
   "outputs": [
    {
     "data": {
      "image/png": "[encoded data removed]",
      "text/plain": [
       "<Figure size 432x288 with 1 Axes>"
      ]
     },
     "metadata": {
      "needs_background": "light"
     },
     "output_type": "display_data"
    }
   ],
   "source": [
    "# Residuals Percentiles\n",
    "resds = thinkstats2.Residuals(heights, log_weights, inter, slope)\n",
    "df['residual'] = resds\n",
    "\n",
    "bins = np.arange(130, 210, 5)\n",
    "indices = np.digitize(df.htm3, bins)\n",
    "groups = df.groupby(indices)\n",
    "\n",
    "means = [group.htm3.mean() for i, group in groups][1:-1]\n",
    "cdfs = [thinkstats2.Cdf(group.residual) for i, group in groups][1:-1]\n",
    "\n",
    "thinkplot.PrePlot(3)\n",
    "for percent in [75, 50, 25]:\n",
    "    ys = [cdf.Percentile(percent) for cdf in cdfs]\n",
    "    label = '%dth' % percent\n",
    "    thinkplot.Plot(means, ys, label=label)\n",
    "    \n",
    "thinkplot.Config(xlabel='height (cm)', ylabel='residual weight (kg)', legend=False)"
   ]
  },
  {
   "cell_type": "code",
   "execution_count": 124,
   "metadata": {},
   "outputs": [
    {
     "data": {
      "text/plain": [
       "0.5317282605983591"
      ]
     },
     "execution_count": 124,
     "metadata": {},
     "output_type": "execute_result"
    }
   ],
   "source": [
    "#Correlation \n",
    "\n",
    "corrh=thinkstats2.Corr(heights, log_weights)\n",
    "corrh"
   ]
  },
  {
   "cell_type": "code",
   "execution_count": 126,
   "metadata": {},
   "outputs": [
    {
     "data": {
      "text/plain": [
       "0.28273494311894154"
      ]
     },
     "execution_count": 126,
     "metadata": {},
     "output_type": "execute_result"
    }
   ],
   "source": [
    "# Coeff of Determination\n",
    "\n",
    "coeffD=thinkstats2.CoefDetermination(log_weights, resds)\n",
    "coeffD"
   ]
  },
  {
   "cell_type": "code",
   "execution_count": 128,
   "metadata": {},
   "outputs": [
    {
     "data": {
      "text/plain": [
       "1.4932499681208355e-14"
      ]
     },
     "execution_count": 128,
     "metadata": {},
     "output_type": "execute_result"
    }
   ],
   "source": [
    "#Confirm R^2 = p^2\n",
    "corrh**2-coeffD"
   ]
  },
  {
   "cell_type": "code",
   "execution_count": 132,
   "metadata": {},
   "outputs": [
    {
     "data": {
      "text/plain": [
       "0.1032072503000493"
      ]
     },
     "execution_count": 132,
     "metadata": {},
     "output_type": "execute_result"
    }
   ],
   "source": [
    "# Computer Std(ys)\n",
    "\n",
    "std_ys=thinkstats2.Std(log_weights)\n",
    "std_ys"
   ]
  },
  {
   "cell_type": "code",
   "execution_count": 135,
   "metadata": {},
   "outputs": [
    {
     "data": {
      "text/plain": [
       "0.08740777080416111"
      ]
     },
     "execution_count": 135,
     "metadata": {},
     "output_type": "execute_result"
    }
   ],
   "source": [
    "#computer std(res)\n",
    "\n",
    "std_resds = thinkstats2.Std(resds)\n",
    "std_resds"
   ]
  },
  {
   "cell_type": "code",
   "execution_count": 137,
   "metadata": {},
   "outputs": [
    {
     "data": {
      "text/plain": [
       "0.15308497658793496"
      ]
     },
     "execution_count": 137,
     "metadata": {},
     "output_type": "execute_result"
    }
   ],
   "source": [
    "#how much does height info reduce RMSE\n",
    "\n",
    "1 - std_resds/ std_ys"
   ]
  },
  {
   "cell_type": "code",
   "execution_count": 145,
   "metadata": {},
   "outputs": [],
   "source": [
    "#use resampling to computer distributions for inter, slope\n",
    "t = []\n",
    "for _ in range(100):\n",
    "    sample = thinkstats2.ResampleRows(df)\n",
    "    estimates = thinkstats2.LeastSquares(sample.htm3, np.log10(sample.wtkg2))\n",
    "    t.append(estimates)\n",
    "\n",
    "inters, slopes = zip(*t)"
   ]
  },
  {
   "cell_type": "code",
   "execution_count": 146,
   "metadata": {},
   "outputs": [
    {
     "data": {
      "text/plain": [
       "{'xscale': 'linear', 'yscale': 'linear'}"
      ]
     },
     "execution_count": 146,
     "metadata": {},
     "output_type": "execute_result"
    },
    {
     "data": {
      "image/png": "[encoded data removed]",
      "text/plain": [
       "<Figure size 432x288 with 1 Axes>"
      ]
     },
     "metadata": {
      "needs_background": "light"
     },
     "output_type": "display_data"
    }
   ],
   "source": [
    "#plot distribution\n",
    "\n",
    "cdf = thinkstats2.Cdf(slopes)\n",
    "thinkplot.Cdf(cdf)"
   ]
  },
  {
   "cell_type": "code",
   "execution_count": 147,
   "metadata": {},
   "outputs": [
    {
     "data": {
      "text/plain": [
       "0"
      ]
     },
     "execution_count": 147,
     "metadata": {},
     "output_type": "execute_result"
    }
   ],
   "source": [
    "#pvalue of slope\n",
    "\n",
    "pvalue = cdf[0]\n",
    "pvalue"
   ]
  },
  {
   "cell_type": "code",
   "execution_count": 148,
   "metadata": {},
   "outputs": [
    {
     "data": {
      "text/plain": [
       "(0.00526188142477598, 0.005309885185515658)"
      ]
     },
     "execution_count": 148,
     "metadata": {},
     "output_type": "execute_result"
    }
   ],
   "source": [
    "#90% CI of slope\n",
    "\n",
    "ci = cdf.Percentile(5), cdf.Percentile(95)\n",
    "ci\n"
   ]
  },
  {
   "cell_type": "code",
   "execution_count": 149,
   "metadata": {},
   "outputs": [
    {
     "data": {
      "text/plain": [
       "0.00528448403003027"
      ]
     },
     "execution_count": 149,
     "metadata": {},
     "output_type": "execute_result"
    }
   ],
   "source": [
    "# mean of distribution\n",
    "\n",
    "mean = thinkstats2.Mean(slopes)\n",
    "mean"
   ]
  },
  {
   "cell_type": "code",
   "execution_count": 150,
   "metadata": {},
   "outputs": [
    {
     "data": {
      "text/plain": [
       "1.4578494115528146e-05"
      ]
     },
     "execution_count": 150,
     "metadata": {},
     "output_type": "execute_result"
    }
   ],
   "source": [
    "#std dev/stnd error of distribution\n",
    "\n",
    "Std_dev = thinkstats2.Std(slopes)\n",
    "Std_dev"
   ]
  },
  {
   "cell_type": "code",
   "execution_count": 153,
   "metadata": {},
   "outputs": [
    {
     "name": "stdout",
     "output_type": "stream",
     "text": [
      "mean, SE, CI 168.95255007174762 0.011579961762115808 (168.94026758826976, 168.96823905091048)\n"
     ]
    }
   ],
   "source": [
    "#resample w/o weights, compute mean height and measure\n",
    "\n",
    "unweighted_sample = [thinkstats2.ResampleRows(df).htm3.mean() for _ in range(5)]\n",
    "Summarize(unweighted_sample)"
   ]
  },
  {
   "cell_type": "code",
   "execution_count": 158,
   "metadata": {},
   "outputs": [
    {
     "name": "stdout",
     "output_type": "stream",
     "text": [
      "mean, SE, CI 170.4883485923321 0.015427486128389071 (170.46144829119424, 170.50587875664422)\n"
     ]
    }
   ],
   "source": [
    "#resample w/ weights\n",
    "\n",
    "weighted_sample = [ResampleRowsWeighted(df,'finalwt').htm3.mean() for _ in range(5)]\n",
    "Summarize(weighted_sample)"
   ]
  },
  {
   "cell_type": "code",
   "execution_count": null,
   "metadata": {},
   "outputs": [],
   "source": []
  }
 ],
 "metadata": {
  "kernelspec": {
   "display_name": "Python 3 (ipykernel)",
   "language": "python",
   "name": "python3"
  },
  "language_info": {
   "codemirror_mode": {
    "name": "ipython",
    "version": 3
   },
   "file_extension": ".py",
   "mimetype": "text/x-python",
   "name": "python",
   "nbconvert_exporter": "python",
   "pygments_lexer": "ipython3",
   "version": "3.9.7"
  }
 },
 "nbformat": 4,
 "nbformat_minor": 1
}
