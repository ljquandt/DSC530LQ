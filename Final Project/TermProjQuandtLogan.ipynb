{
 "cells": [
  {
   "cell_type": "code",
   "execution_count": 171,
   "id": "c946c2f6",
   "metadata": {},
   "outputs": [],
   "source": [
    "from __future__ import print_function, division\n",
    "\n",
    "%matplotlib inline\n",
    "\n",
    "import matplotlib.pyplot as plt\n",
    "\n",
    "import warnings\n",
    "warnings.filterwarnings('ignore', category=FutureWarning)\n",
    "\n",
    "import numpy as np\n",
    "import pandas as pd\n",
    "\n",
    "import random\n",
    "\n",
    "import thinkstats2\n",
    "import thinkplot\n",
    "import statistics\n",
    "\n",
    "import statsmodels.formula.api as smf"
   ]
  },
  {
   "cell_type": "code",
   "execution_count": 52,
   "id": "277c4c2e",
   "metadata": {},
   "outputs": [
    {
     "data": {
      "text/html": [
       "<div>\n",
       "<style scoped>\n",
       "    .dataframe tbody tr th:only-of-type {\n",
       "        vertical-align: middle;\n",
       "    }\n",
       "\n",
       "    .dataframe tbody tr th {\n",
       "        vertical-align: top;\n",
       "    }\n",
       "\n",
       "    .dataframe thead th {\n",
       "        text-align: right;\n",
       "    }\n",
       "</style>\n",
       "<table border=\"1\" class=\"dataframe\">\n",
       "  <thead>\n",
       "    <tr style=\"text-align: right;\">\n",
       "      <th></th>\n",
       "      <th>Sale Date</th>\n",
       "      <th>Sale Price</th>\n",
       "      <th>sale_reason</th>\n",
       "      <th>sale_instrument</th>\n",
       "      <th>sale_warning</th>\n",
       "      <th>sitetype</th>\n",
       "      <th>addr_full</th>\n",
       "      <th>zip5</th>\n",
       "      <th>ctyname</th>\n",
       "      <th>postalctyn</th>\n",
       "      <th>...</th>\n",
       "      <th>bedrooms</th>\n",
       "      <th>bath_full_count</th>\n",
       "      <th>bath_half_count</th>\n",
       "      <th>bath_3qtr_count</th>\n",
       "      <th>year_built</th>\n",
       "      <th>year_renovated</th>\n",
       "      <th>current_zoning</th>\n",
       "      <th>sq_ft_lot</th>\n",
       "      <th>prop_type</th>\n",
       "      <th>present_use</th>\n",
       "    </tr>\n",
       "  </thead>\n",
       "  <tbody>\n",
       "    <tr>\n",
       "      <th>0</th>\n",
       "      <td>2006-01-03</td>\n",
       "      <td>698000</td>\n",
       "      <td>1</td>\n",
       "      <td>3</td>\n",
       "      <td>NaN</td>\n",
       "      <td>R1</td>\n",
       "      <td>17021 NE 113TH CT</td>\n",
       "      <td>98052</td>\n",
       "      <td>REDMOND</td>\n",
       "      <td>REDMOND</td>\n",
       "      <td>...</td>\n",
       "      <td>4</td>\n",
       "      <td>2</td>\n",
       "      <td>1</td>\n",
       "      <td>0</td>\n",
       "      <td>2003</td>\n",
       "      <td>0</td>\n",
       "      <td>R4</td>\n",
       "      <td>6635</td>\n",
       "      <td>R</td>\n",
       "      <td>2</td>\n",
       "    </tr>\n",
       "    <tr>\n",
       "      <th>1</th>\n",
       "      <td>2006-01-03</td>\n",
       "      <td>649990</td>\n",
       "      <td>1</td>\n",
       "      <td>3</td>\n",
       "      <td>NaN</td>\n",
       "      <td>R1</td>\n",
       "      <td>11927 178TH PL NE</td>\n",
       "      <td>98052</td>\n",
       "      <td>REDMOND</td>\n",
       "      <td>REDMOND</td>\n",
       "      <td>...</td>\n",
       "      <td>4</td>\n",
       "      <td>2</td>\n",
       "      <td>0</td>\n",
       "      <td>1</td>\n",
       "      <td>2006</td>\n",
       "      <td>0</td>\n",
       "      <td>R4</td>\n",
       "      <td>5570</td>\n",
       "      <td>R</td>\n",
       "      <td>2</td>\n",
       "    </tr>\n",
       "    <tr>\n",
       "      <th>2</th>\n",
       "      <td>2006-01-03</td>\n",
       "      <td>572500</td>\n",
       "      <td>1</td>\n",
       "      <td>3</td>\n",
       "      <td>NaN</td>\n",
       "      <td>R1</td>\n",
       "      <td>13315 174TH AVE NE</td>\n",
       "      <td>98052</td>\n",
       "      <td>NaN</td>\n",
       "      <td>REDMOND</td>\n",
       "      <td>...</td>\n",
       "      <td>4</td>\n",
       "      <td>1</td>\n",
       "      <td>1</td>\n",
       "      <td>1</td>\n",
       "      <td>1987</td>\n",
       "      <td>0</td>\n",
       "      <td>R6</td>\n",
       "      <td>8444</td>\n",
       "      <td>R</td>\n",
       "      <td>2</td>\n",
       "    </tr>\n",
       "    <tr>\n",
       "      <th>3</th>\n",
       "      <td>2006-01-03</td>\n",
       "      <td>420000</td>\n",
       "      <td>1</td>\n",
       "      <td>3</td>\n",
       "      <td>NaN</td>\n",
       "      <td>R1</td>\n",
       "      <td>3303 178TH AVE NE</td>\n",
       "      <td>98052</td>\n",
       "      <td>REDMOND</td>\n",
       "      <td>REDMOND</td>\n",
       "      <td>...</td>\n",
       "      <td>3</td>\n",
       "      <td>1</td>\n",
       "      <td>0</td>\n",
       "      <td>1</td>\n",
       "      <td>1968</td>\n",
       "      <td>0</td>\n",
       "      <td>R4</td>\n",
       "      <td>9600</td>\n",
       "      <td>R</td>\n",
       "      <td>2</td>\n",
       "    </tr>\n",
       "    <tr>\n",
       "      <th>4</th>\n",
       "      <td>2006-01-03</td>\n",
       "      <td>369900</td>\n",
       "      <td>1</td>\n",
       "      <td>3</td>\n",
       "      <td>15</td>\n",
       "      <td>R1</td>\n",
       "      <td>16126 NE 108TH CT</td>\n",
       "      <td>98052</td>\n",
       "      <td>REDMOND</td>\n",
       "      <td>REDMOND</td>\n",
       "      <td>...</td>\n",
       "      <td>3</td>\n",
       "      <td>1</td>\n",
       "      <td>0</td>\n",
       "      <td>1</td>\n",
       "      <td>1980</td>\n",
       "      <td>0</td>\n",
       "      <td>R6</td>\n",
       "      <td>7526</td>\n",
       "      <td>R</td>\n",
       "      <td>2</td>\n",
       "    </tr>\n",
       "  </tbody>\n",
       "</table>\n",
       "<p>5 rows × 24 columns</p>\n",
       "</div>"
      ],
      "text/plain": [
       "   Sale Date  Sale Price  sale_reason  sale_instrument sale_warning sitetype  \\\n",
       "0 2006-01-03      698000            1                3          NaN       R1   \n",
       "1 2006-01-03      649990            1                3          NaN       R1   \n",
       "2 2006-01-03      572500            1                3          NaN       R1   \n",
       "3 2006-01-03      420000            1                3          NaN       R1   \n",
       "4 2006-01-03      369900            1                3           15       R1   \n",
       "\n",
       "            addr_full   zip5  ctyname postalctyn  ...  bedrooms  \\\n",
       "0   17021 NE 113TH CT  98052  REDMOND    REDMOND  ...         4   \n",
       "1   11927 178TH PL NE  98052  REDMOND    REDMOND  ...         4   \n",
       "2  13315 174TH AVE NE  98052      NaN    REDMOND  ...         4   \n",
       "3   3303 178TH AVE NE  98052  REDMOND    REDMOND  ...         3   \n",
       "4   16126 NE 108TH CT  98052  REDMOND    REDMOND  ...         3   \n",
       "\n",
       "   bath_full_count  bath_half_count  bath_3qtr_count  year_built  \\\n",
       "0                2                1                0        2003   \n",
       "1                2                0                1        2006   \n",
       "2                1                1                1        1987   \n",
       "3                1                0                1        1968   \n",
       "4                1                0                1        1980   \n",
       "\n",
       "   year_renovated  current_zoning  sq_ft_lot  prop_type  present_use  \n",
       "0               0              R4       6635          R            2  \n",
       "1               0              R4       5570          R            2  \n",
       "2               0              R6       8444          R            2  \n",
       "3               0              R4       9600          R            2  \n",
       "4               0              R6       7526          R            2  \n",
       "\n",
       "[5 rows x 24 columns]"
      ]
     },
     "execution_count": 52,
     "metadata": {},
     "output_type": "execute_result"
    }
   ],
   "source": [
    "df = pd.read_excel(\"housing.xlsx\")\n",
    "df.head()"
   ]
  },
  {
   "cell_type": "code",
   "execution_count": 54,
   "id": "71e33bee",
   "metadata": {},
   "outputs": [
    {
     "data": {
      "text/html": [
       "<div>\n",
       "<style scoped>\n",
       "    .dataframe tbody tr th:only-of-type {\n",
       "        vertical-align: middle;\n",
       "    }\n",
       "\n",
       "    .dataframe tbody tr th {\n",
       "        vertical-align: top;\n",
       "    }\n",
       "\n",
       "    .dataframe thead th {\n",
       "        text-align: right;\n",
       "    }\n",
       "</style>\n",
       "<table border=\"1\" class=\"dataframe\">\n",
       "  <thead>\n",
       "    <tr style=\"text-align: right;\">\n",
       "      <th></th>\n",
       "      <th>Sale Price</th>\n",
       "      <th>sale_reason</th>\n",
       "      <th>sale_instrument</th>\n",
       "      <th>zip5</th>\n",
       "      <th>lon</th>\n",
       "      <th>lat</th>\n",
       "      <th>building_grade</th>\n",
       "      <th>square_feet_total_living</th>\n",
       "      <th>bedrooms</th>\n",
       "      <th>bath_full_count</th>\n",
       "      <th>...</th>\n",
       "      <th>year_built</th>\n",
       "      <th>year_renovated</th>\n",
       "      <th>sq_ft_lot</th>\n",
       "      <th>present_use</th>\n",
       "      <th>salePrice</th>\n",
       "      <th>sqftliving</th>\n",
       "      <th>sqftlot</th>\n",
       "      <th>number_bedrooms</th>\n",
       "      <th>zipcode</th>\n",
       "      <th>YearBuilt</th>\n",
       "    </tr>\n",
       "  </thead>\n",
       "  <tbody>\n",
       "    <tr>\n",
       "      <th>count</th>\n",
       "      <td>1.286500e+04</td>\n",
       "      <td>12865.000000</td>\n",
       "      <td>12865.000000</td>\n",
       "      <td>12865.000000</td>\n",
       "      <td>12865.000000</td>\n",
       "      <td>12865.000000</td>\n",
       "      <td>12865.000000</td>\n",
       "      <td>12865.000000</td>\n",
       "      <td>12865.000000</td>\n",
       "      <td>12865.000000</td>\n",
       "      <td>...</td>\n",
       "      <td>12865.000000</td>\n",
       "      <td>12865.000000</td>\n",
       "      <td>1.286500e+04</td>\n",
       "      <td>12865.000000</td>\n",
       "      <td>1.286500e+04</td>\n",
       "      <td>12865.000000</td>\n",
       "      <td>1.286500e+04</td>\n",
       "      <td>12865.000000</td>\n",
       "      <td>12865.000000</td>\n",
       "      <td>12865.000000</td>\n",
       "    </tr>\n",
       "    <tr>\n",
       "      <th>mean</th>\n",
       "      <td>6.607377e+05</td>\n",
       "      <td>1.550019</td>\n",
       "      <td>3.677730</td>\n",
       "      <td>98052.540381</td>\n",
       "      <td>-122.079216</td>\n",
       "      <td>47.683576</td>\n",
       "      <td>8.240420</td>\n",
       "      <td>2539.506180</td>\n",
       "      <td>3.478663</td>\n",
       "      <td>1.798445</td>\n",
       "      <td>...</td>\n",
       "      <td>1993.002643</td>\n",
       "      <td>26.244306</td>\n",
       "      <td>2.222857e+04</td>\n",
       "      <td>6.597746</td>\n",
       "      <td>6.607377e+05</td>\n",
       "      <td>2539.506180</td>\n",
       "      <td>2.222857e+04</td>\n",
       "      <td>3.478663</td>\n",
       "      <td>98052.540381</td>\n",
       "      <td>1993.002643</td>\n",
       "    </tr>\n",
       "    <tr>\n",
       "      <th>std</th>\n",
       "      <td>4.043811e+05</td>\n",
       "      <td>2.675205</td>\n",
       "      <td>3.310712</td>\n",
       "      <td>1.695107</td>\n",
       "      <td>0.052210</td>\n",
       "      <td>0.025770</td>\n",
       "      <td>1.092624</td>\n",
       "      <td>989.817562</td>\n",
       "      <td>0.876127</td>\n",
       "      <td>0.650797</td>\n",
       "      <td>...</td>\n",
       "      <td>17.220168</td>\n",
       "      <td>227.482581</td>\n",
       "      <td>5.693329e+04</td>\n",
       "      <td>30.211924</td>\n",
       "      <td>4.043811e+05</td>\n",
       "      <td>989.817562</td>\n",
       "      <td>5.693329e+04</td>\n",
       "      <td>0.876127</td>\n",
       "      <td>1.695107</td>\n",
       "      <td>17.220168</td>\n",
       "    </tr>\n",
       "    <tr>\n",
       "      <th>min</th>\n",
       "      <td>6.980000e+02</td>\n",
       "      <td>0.000000</td>\n",
       "      <td>0.000000</td>\n",
       "      <td>98052.000000</td>\n",
       "      <td>-122.164280</td>\n",
       "      <td>47.456347</td>\n",
       "      <td>2.000000</td>\n",
       "      <td>240.000000</td>\n",
       "      <td>0.000000</td>\n",
       "      <td>0.000000</td>\n",
       "      <td>...</td>\n",
       "      <td>1900.000000</td>\n",
       "      <td>0.000000</td>\n",
       "      <td>7.850000e+02</td>\n",
       "      <td>0.000000</td>\n",
       "      <td>6.980000e+02</td>\n",
       "      <td>240.000000</td>\n",
       "      <td>7.850000e+02</td>\n",
       "      <td>0.000000</td>\n",
       "      <td>98052.000000</td>\n",
       "      <td>1900.000000</td>\n",
       "    </tr>\n",
       "    <tr>\n",
       "      <th>25%</th>\n",
       "      <td>4.600000e+05</td>\n",
       "      <td>1.000000</td>\n",
       "      <td>3.000000</td>\n",
       "      <td>98052.000000</td>\n",
       "      <td>-122.119726</td>\n",
       "      <td>47.665614</td>\n",
       "      <td>8.000000</td>\n",
       "      <td>1820.000000</td>\n",
       "      <td>3.000000</td>\n",
       "      <td>1.000000</td>\n",
       "      <td>...</td>\n",
       "      <td>1979.000000</td>\n",
       "      <td>0.000000</td>\n",
       "      <td>5.355000e+03</td>\n",
       "      <td>2.000000</td>\n",
       "      <td>4.600000e+05</td>\n",
       "      <td>1820.000000</td>\n",
       "      <td>5.355000e+03</td>\n",
       "      <td>3.000000</td>\n",
       "      <td>98052.000000</td>\n",
       "      <td>1979.000000</td>\n",
       "    </tr>\n",
       "    <tr>\n",
       "      <th>50%</th>\n",
       "      <td>5.930000e+05</td>\n",
       "      <td>1.000000</td>\n",
       "      <td>3.000000</td>\n",
       "      <td>98052.000000</td>\n",
       "      <td>-122.100252</td>\n",
       "      <td>47.687425</td>\n",
       "      <td>8.000000</td>\n",
       "      <td>2420.000000</td>\n",
       "      <td>4.000000</td>\n",
       "      <td>2.000000</td>\n",
       "      <td>...</td>\n",
       "      <td>1998.000000</td>\n",
       "      <td>0.000000</td>\n",
       "      <td>7.965000e+03</td>\n",
       "      <td>2.000000</td>\n",
       "      <td>5.930000e+05</td>\n",
       "      <td>2420.000000</td>\n",
       "      <td>7.965000e+03</td>\n",
       "      <td>4.000000</td>\n",
       "      <td>98052.000000</td>\n",
       "      <td>1998.000000</td>\n",
       "    </tr>\n",
       "    <tr>\n",
       "      <th>75%</th>\n",
       "      <td>7.500000e+05</td>\n",
       "      <td>1.000000</td>\n",
       "      <td>3.000000</td>\n",
       "      <td>98053.000000</td>\n",
       "      <td>-122.026293</td>\n",
       "      <td>47.704956</td>\n",
       "      <td>9.000000</td>\n",
       "      <td>3110.000000</td>\n",
       "      <td>4.000000</td>\n",
       "      <td>2.000000</td>\n",
       "      <td>...</td>\n",
       "      <td>2007.000000</td>\n",
       "      <td>0.000000</td>\n",
       "      <td>1.263200e+04</td>\n",
       "      <td>2.000000</td>\n",
       "      <td>7.500000e+05</td>\n",
       "      <td>3110.000000</td>\n",
       "      <td>1.263200e+04</td>\n",
       "      <td>4.000000</td>\n",
       "      <td>98053.000000</td>\n",
       "      <td>2007.000000</td>\n",
       "    </tr>\n",
       "    <tr>\n",
       "      <th>max</th>\n",
       "      <td>4.400000e+06</td>\n",
       "      <td>19.000000</td>\n",
       "      <td>27.000000</td>\n",
       "      <td>98074.000000</td>\n",
       "      <td>-121.949858</td>\n",
       "      <td>47.732546</td>\n",
       "      <td>13.000000</td>\n",
       "      <td>13540.000000</td>\n",
       "      <td>11.000000</td>\n",
       "      <td>23.000000</td>\n",
       "      <td>...</td>\n",
       "      <td>2016.000000</td>\n",
       "      <td>2016.000000</td>\n",
       "      <td>1.631322e+06</td>\n",
       "      <td>300.000000</td>\n",
       "      <td>4.400000e+06</td>\n",
       "      <td>13540.000000</td>\n",
       "      <td>1.631322e+06</td>\n",
       "      <td>11.000000</td>\n",
       "      <td>98074.000000</td>\n",
       "      <td>2016.000000</td>\n",
       "    </tr>\n",
       "  </tbody>\n",
       "</table>\n",
       "<p>8 rows × 22 columns</p>\n",
       "</div>"
      ],
      "text/plain": [
       "         Sale Price   sale_reason  sale_instrument          zip5  \\\n",
       "count  1.286500e+04  12865.000000     12865.000000  12865.000000   \n",
       "mean   6.607377e+05      1.550019         3.677730  98052.540381   \n",
       "std    4.043811e+05      2.675205         3.310712      1.695107   \n",
       "min    6.980000e+02      0.000000         0.000000  98052.000000   \n",
       "25%    4.600000e+05      1.000000         3.000000  98052.000000   \n",
       "50%    5.930000e+05      1.000000         3.000000  98052.000000   \n",
       "75%    7.500000e+05      1.000000         3.000000  98053.000000   \n",
       "max    4.400000e+06     19.000000        27.000000  98074.000000   \n",
       "\n",
       "                lon           lat  building_grade  square_feet_total_living  \\\n",
       "count  12865.000000  12865.000000    12865.000000              12865.000000   \n",
       "mean    -122.079216     47.683576        8.240420               2539.506180   \n",
       "std        0.052210      0.025770        1.092624                989.817562   \n",
       "min     -122.164280     47.456347        2.000000                240.000000   \n",
       "25%     -122.119726     47.665614        8.000000               1820.000000   \n",
       "50%     -122.100252     47.687425        8.000000               2420.000000   \n",
       "75%     -122.026293     47.704956        9.000000               3110.000000   \n",
       "max     -121.949858     47.732546       13.000000              13540.000000   \n",
       "\n",
       "           bedrooms  bath_full_count  ...    year_built  year_renovated  \\\n",
       "count  12865.000000     12865.000000  ...  12865.000000    12865.000000   \n",
       "mean       3.478663         1.798445  ...   1993.002643       26.244306   \n",
       "std        0.876127         0.650797  ...     17.220168      227.482581   \n",
       "min        0.000000         0.000000  ...   1900.000000        0.000000   \n",
       "25%        3.000000         1.000000  ...   1979.000000        0.000000   \n",
       "50%        4.000000         2.000000  ...   1998.000000        0.000000   \n",
       "75%        4.000000         2.000000  ...   2007.000000        0.000000   \n",
       "max       11.000000        23.000000  ...   2016.000000     2016.000000   \n",
       "\n",
       "          sq_ft_lot   present_use     salePrice    sqftliving       sqftlot  \\\n",
       "count  1.286500e+04  12865.000000  1.286500e+04  12865.000000  1.286500e+04   \n",
       "mean   2.222857e+04      6.597746  6.607377e+05   2539.506180  2.222857e+04   \n",
       "std    5.693329e+04     30.211924  4.043811e+05    989.817562  5.693329e+04   \n",
       "min    7.850000e+02      0.000000  6.980000e+02    240.000000  7.850000e+02   \n",
       "25%    5.355000e+03      2.000000  4.600000e+05   1820.000000  5.355000e+03   \n",
       "50%    7.965000e+03      2.000000  5.930000e+05   2420.000000  7.965000e+03   \n",
       "75%    1.263200e+04      2.000000  7.500000e+05   3110.000000  1.263200e+04   \n",
       "max    1.631322e+06    300.000000  4.400000e+06  13540.000000  1.631322e+06   \n",
       "\n",
       "       number_bedrooms       zipcode     YearBuilt  \n",
       "count     12865.000000  12865.000000  12865.000000  \n",
       "mean          3.478663  98052.540381   1993.002643  \n",
       "std           0.876127      1.695107     17.220168  \n",
       "min           0.000000  98052.000000   1900.000000  \n",
       "25%           3.000000  98052.000000   1979.000000  \n",
       "50%           4.000000  98052.000000   1998.000000  \n",
       "75%           4.000000  98053.000000   2007.000000  \n",
       "max          11.000000  98074.000000   2016.000000  \n",
       "\n",
       "[8 rows x 22 columns]"
      ]
     },
     "execution_count": 54,
     "metadata": {},
     "output_type": "execute_result"
    }
   ],
   "source": [
    "df['salePrice'] = df['Sale Price']\n",
    "df['sqftliving'] = df['square_feet_total_living']\n",
    "df['sqftlot'] = df['sq_ft_lot']\n",
    "df['number_bedrooms'] = df['bedrooms']\n",
    "df['zipcode'] = df['zip5']\n",
    "df['YearBuilt'] = df['year_built']\n",
    "df.describe()"
   ]
  },
  {
   "cell_type": "code",
   "execution_count": 93,
   "id": "8e3dbc16",
   "metadata": {},
   "outputs": [
    {
     "data": {
      "image/png": "[encoded data removed]",
      "text/plain": [
       "<Figure size 432x288 with 1 Axes>"
      ]
     },
     "metadata": {
      "needs_background": "light"
     },
     "output_type": "display_data"
    }
   ],
   "source": [
    "#Histogram of Sale Price, used matplotlib due to issues with thinkstats on this one\n",
    "\n",
    "plt.hist(df.salePrice, bins='auto')\n",
    "plt.xlim(0,750000)\n",
    "plt.show()"
   ]
  },
  {
   "cell_type": "code",
   "execution_count": 187,
   "id": "d626eb6e",
   "metadata": {},
   "outputs": [
    {
     "data": {
      "image/png": "[encoded data removed]",
      "text/plain": [
       "<Figure size 432x288 with 1 Axes>"
      ]
     },
     "metadata": {
      "needs_background": "light"
     },
     "output_type": "display_data"
    }
   ],
   "source": [
    "#Histogram for Square Feet living area variable\n",
    "hist_living=thinkstats2.Hist(df.sqftliving, label=\"Square Feet\")\n",
    "thinkplot.Hist(hist_living)\n",
    "thinkplot.Config(xlabel='Square Feet Living', ylabel='Count', xlim=(0,7500))"
   ]
  },
  {
   "cell_type": "code",
   "execution_count": 63,
   "id": "548af549",
   "metadata": {},
   "outputs": [
    {
     "data": {
      "image/png": "[encoded data removed]",
      "text/plain": [
       "<Figure size 432x288 with 1 Axes>"
      ]
     },
     "metadata": {
      "needs_background": "light"
     },
     "output_type": "display_data"
    }
   ],
   "source": [
    "#Histogram of Lot size\n",
    "hist_lot=thinkstats2.Hist(df.sqftlot)\n",
    "thinkplot.Hist(hist_lot)\n",
    "thinkplot.Config(xlabel=\"Lot Size\", ylabel=\"Count\", xlim=(0,10000))"
   ]
  },
  {
   "cell_type": "code",
   "execution_count": 65,
   "id": "42a51418",
   "metadata": {},
   "outputs": [
    {
     "data": {
      "image/png": "[encoded data removed]",
      "text/plain": [
       "<Figure size 432x288 with 1 Axes>"
      ]
     },
     "metadata": {
      "needs_background": "light"
     },
     "output_type": "display_data"
    }
   ],
   "source": [
    "#Histogram of Bedrooms\n",
    "hist_bed = thinkstats2.Hist(df.number_bedrooms)\n",
    "thinkplot.Hist(hist_bed)\n",
    "thinkplot.Config(xlabel='# of Bedrooms', ylabel='Count')"
   ]
  },
  {
   "cell_type": "code",
   "execution_count": 97,
   "id": "01099302",
   "metadata": {
    "scrolled": true
   },
   "outputs": [
    {
     "data": {
      "image/png": "[encoded data removed]",
      "text/plain": [
       "<Figure size 432x288 with 1 Axes>"
      ]
     },
     "metadata": {
      "needs_background": "light"
     },
     "output_type": "display_data"
    }
   ],
   "source": [
    "#Histogram of Zip\n",
    "hist_zip = thinkstats2.Hist(df.zipcode)\n",
    "thinkplot.Hist(hist_zip)\n",
    "thinkplot.Config(xlabel='zipcode', ylabel='Count')"
   ]
  },
  {
   "cell_type": "code",
   "execution_count": 72,
   "id": "847242bb",
   "metadata": {},
   "outputs": [
    {
     "data": {
      "image/png": "[encoded data removed]",
      "text/plain": [
       "<Figure size 432x288 with 1 Axes>"
      ]
     },
     "metadata": {
      "needs_background": "light"
     },
     "output_type": "display_data"
    }
   ],
   "source": [
    "#Histogram of Year Built\n",
    "hist_year = thinkstats2.Hist(df.YearBuilt)\n",
    "thinkplot.Hist(hist_year)\n",
    "thinkplot.Config(xlabel='Year Built', ylabel=\"Count\")"
   ]
  },
  {
   "cell_type": "code",
   "execution_count": 108,
   "id": "40cfe5e7",
   "metadata": {},
   "outputs": [
    {
     "name": "stdout",
     "output_type": "stream",
     "text": [
      "Mean Sale Price: 660737.7496307812\n",
      "Median Sale Price: 593000\n",
      "Mean Sq Ft Living: 2539.5061795569372\n",
      "Median Sq Ft Living: 2420\n",
      "Mean Sq Ft Lot: 22228.568208317138\n",
      "Median Sq Ft Lot: 7965\n",
      "Mean # of Bedrooms: 3.478663039253789\n",
      "Median # of Bedrooms: 4\n"
     ]
    }
   ],
   "source": [
    "print('Mean Sale Price:', statistics.mean(df.salePrice))\n",
    "print('Median Sale Price:', statistics.median(df.salePrice))\n",
    "print('Mean Sq Ft Living:', statistics.mean(df.sqftliving))\n",
    "print('Median Sq Ft Living:', statistics.median(df.sqftliving))\n",
    "print('Mean Sq Ft Lot:', statistics.mean(df.sqftlot))\n",
    "print('Median Sq Ft Lot:', statistics.median(df.sqftlot))\n",
    "print('Mean # of Bedrooms:', statistics.mean(df.number_bedrooms))\n",
    "print('Median # of Bedrooms:', statistics.median(df.number_bedrooms))"
   ]
  },
  {
   "cell_type": "code",
   "execution_count": 130,
   "id": "81018f0e",
   "metadata": {},
   "outputs": [],
   "source": [
    "bedrooms = df.number_bedrooms\n",
    "big_house = bedrooms[bedrooms > 2]\n",
    "little_house = bedrooms[bedrooms <= 2]"
   ]
  },
  {
   "cell_type": "code",
   "execution_count": 133,
   "id": "455e4fa7",
   "metadata": {},
   "outputs": [
    {
     "data": {
      "image/png": "[encoded data removed]",
      "text/plain": [
       "<Figure size 432x288 with 1 Axes>"
      ]
     },
     "metadata": {
      "needs_background": "light"
     },
     "output_type": "display_data"
    }
   ],
   "source": [
    "actual_pmf = thinkstats2.Pmf(big_house, label='Bedrooms Actual')\n",
    "thinkplot.Config(xlabel='Sq Ft Living Actual', ylabel='PMF')\n",
    "\n",
    "def BiasPmf(pmf, label):\n",
    "    new_pmf = pmf.Copy(label=label)\n",
    "\n",
    "    for x, p in pmf.Items():\n",
    "        new_pmf.Mult(x, x)\n",
    "        \n",
    "    new_pmf.Normalize()\n",
    "    return new_pmf\n",
    "\n",
    "biased_pmf = BiasPmf(actual_pmf, label='Bedrooms Biased')\n",
    "thinkplot.PrePlot(2)\n",
    "thinkplot.Pmfs([actual_pmf, biased_pmf])\n",
    "thinkplot.Config(xlabel='# of Bedrooms', ylabel=\"Pmf\")"
   ]
  },
  {
   "cell_type": "code",
   "execution_count": 112,
   "id": "b7c451ea",
   "metadata": {},
   "outputs": [
    {
     "data": {
      "image/png": "[encoded data removed]",
      "text/plain": [
       "<Figure size 432x288 with 1 Axes>"
      ]
     },
     "metadata": {
      "needs_background": "light"
     },
     "output_type": "display_data"
    }
   ],
   "source": [
    "salePrice_cdf = thinkstats2.Cdf(salePrice, label='Sale Price')\n",
    "thinkplot.Cdf(salePrice_cdf)\n",
    "thinkplot.Config(xlabel='Sale Price', ylabel='Freq')"
   ]
  },
  {
   "cell_type": "code",
   "execution_count": 143,
   "id": "127b195f",
   "metadata": {},
   "outputs": [
    {
     "data": {
      "image/png": "[encoded data removed]",
      "text/plain": [
       "<Figure size 432x288 with 1 Axes>"
      ]
     },
     "metadata": {
      "needs_background": "light"
     },
     "output_type": "display_data"
    }
   ],
   "source": [
    "salePrice = df.salePrice\n",
    "\n",
    "def MakeNormalPlot(weights):\n",
    "    mean= weights.mean()\n",
    "    std = weights.std()\n",
    "\n",
    "    xs = [-5,5]\n",
    "    xs, ys = thinkstats2.FitLine(xs, mean, std)\n",
    "    thinkplot.Plot(xs, ys, color='0.8', label='model')\n",
    "\n",
    "    xs, ys = thinkstats2.NormalProbability(weights)\n",
    "    thinkplot.Plot(xs, ys, label='weights')\n",
    "    \n",
    "MakeNormalPlot(salePrice)"
   ]
  },
  {
   "cell_type": "code",
   "execution_count": 146,
   "id": "6e6f0814",
   "metadata": {},
   "outputs": [
    {
     "data": {
      "image/png": "[encoded data removed]",
      "text/plain": [
       "<Figure size 432x288 with 1 Axes>"
      ]
     },
     "metadata": {
      "needs_background": "light"
     },
     "output_type": "display_data"
    }
   ],
   "source": [
    "thinkplot.Scatter(salePrice, bedrooms)\n",
    "thinkplot.Config(xlabel=\"Sale Price\", ylabel='Bedrooms')"
   ]
  },
  {
   "cell_type": "code",
   "execution_count": 147,
   "id": "d8c56d9e",
   "metadata": {},
   "outputs": [
    {
     "data": {
      "image/png": "[encoded data removed]",
      "text/plain": [
       "<Figure size 432x288 with 1 Axes>"
      ]
     },
     "metadata": {
      "needs_background": "light"
     },
     "output_type": "display_data"
    }
   ],
   "source": [
    "sqftliving = df.sqftliving\n",
    "thinkplot.Scatter(salePrice, sqftliving)\n",
    "thinkplot.Config(xlabel='Sale Price', ylabel='Sq ft living')"
   ]
  },
  {
   "cell_type": "code",
   "execution_count": 186,
   "id": "4f592663",
   "metadata": {},
   "outputs": [
    {
     "data": {
      "image/png": "[encoded data removed]",
      "text/plain": [
       "<Figure size 432x288 with 1 Axes>"
      ]
     },
     "metadata": {
      "needs_background": "light"
     },
     "output_type": "display_data"
    }
   ],
   "source": [
    "yearbuilt = df.YearBuilt\n",
    "thinkplot.Scatter(salePrice, yearbuilt)\n",
    "thinkplot.Config(xlabel='Sale Price', ylabel='Year Built')"
   ]
  },
  {
   "cell_type": "code",
   "execution_count": 148,
   "id": "334bd28f",
   "metadata": {},
   "outputs": [],
   "source": [
    "def Cov(xs, ys, meanx=None, meany=None):\n",
    "    xs = np.asarray(xs)\n",
    "    ys = np.asarray(ys)\n",
    "\n",
    "    if meanx is None:\n",
    "        meanx = np.mean(xs)\n",
    "    if meany is None:\n",
    "        meany = np.mean(ys)\n",
    "\n",
    "    cov = np.dot(xs-meanx, ys-meany) / len(xs)\n",
    "    return cov\n",
    "\n",
    "def Corr(xs, ys):\n",
    "    xs = np.asarray(xs)\n",
    "    ys = np.asarray(ys)\n",
    "\n",
    "    meanx, varx = thinkstats2.MeanVar(xs)\n",
    "    meany, vary = thinkstats2.MeanVar(ys)\n",
    "\n",
    "    corr = Cov(xs, ys, meanx, meany) / np.sqrt(varx * vary)\n",
    "    return corr\n",
    "\n",
    "def SpearmanCorr(xs, ys):\n",
    "    xranks = pd.Series(xs).rank()\n",
    "    yranks = pd.Series(ys).rank()\n",
    "    return Corr(xranks, yranks)\n",
    "\n",
    "def SpearmanCorr(xs, ys):\n",
    "    xs = pd.Series(xs)\n",
    "    ys = pd.Series(ys)\n",
    "    return xs.corr(ys, method='spearman')"
   ]
  },
  {
   "cell_type": "code",
   "execution_count": 150,
   "id": "2fc9c032",
   "metadata": {},
   "outputs": [
    {
     "data": {
      "text/plain": [
       "array([[1.        , 0.45458758],\n",
       "       [0.45458758, 1.        ]])"
      ]
     },
     "execution_count": 150,
     "metadata": {},
     "output_type": "execute_result"
    }
   ],
   "source": [
    "np.corrcoef(salePrice, sqftliving)"
   ]
  },
  {
   "cell_type": "code",
   "execution_count": 151,
   "id": "75764753",
   "metadata": {},
   "outputs": [
    {
     "data": {
      "text/plain": [
       "array([[1.        , 0.22546748],\n",
       "       [0.22546748, 1.        ]])"
      ]
     },
     "execution_count": 151,
     "metadata": {},
     "output_type": "execute_result"
    }
   ],
   "source": [
    "np.corrcoef(salePrice, bedrooms)"
   ]
  },
  {
   "cell_type": "code",
   "execution_count": 153,
   "id": "fb67f9ce",
   "metadata": {},
   "outputs": [
    {
     "data": {
      "text/plain": [
       "0.4545875847238298"
      ]
     },
     "execution_count": 153,
     "metadata": {},
     "output_type": "execute_result"
    }
   ],
   "source": [
    "Corr(salePrice, sqftliving)"
   ]
  },
  {
   "cell_type": "code",
   "execution_count": 156,
   "id": "3ff8e8c4",
   "metadata": {},
   "outputs": [
    {
     "data": {
      "text/plain": [
       "0.22546747811642293"
      ]
     },
     "execution_count": 156,
     "metadata": {},
     "output_type": "execute_result"
    }
   ],
   "source": [
    "Corr(salePrice, bedrooms)"
   ]
  },
  {
   "cell_type": "code",
   "execution_count": 154,
   "id": "42f4b6a5",
   "metadata": {},
   "outputs": [
    {
     "data": {
      "text/plain": [
       "0.7068785053389812"
      ]
     },
     "execution_count": 154,
     "metadata": {},
     "output_type": "execute_result"
    }
   ],
   "source": [
    "SpearmanCorr(salePrice, sqftliving)"
   ]
  },
  {
   "cell_type": "code",
   "execution_count": 155,
   "id": "7d2e058d",
   "metadata": {},
   "outputs": [
    {
     "data": {
      "text/plain": [
       "0.40522637639770565"
      ]
     },
     "execution_count": 155,
     "metadata": {},
     "output_type": "execute_result"
    }
   ],
   "source": [
    "SpearmanCorr(salePrice, bedrooms)"
   ]
  },
  {
   "cell_type": "code",
   "execution_count": 180,
   "id": "e865a6a5",
   "metadata": {},
   "outputs": [
    {
     "data": {
      "image/png": "[encoded data removed]",
      "text/plain": [
       "<Figure size 432x288 with 1 Axes>"
      ]
     },
     "metadata": {
      "needs_background": "light"
     },
     "output_type": "display_data"
    },
    {
     "data": {
      "text/plain": [
       "<Figure size 576x432 with 0 Axes>"
      ]
     },
     "metadata": {},
     "output_type": "display_data"
    }
   ],
   "source": [
    "# Difference in Means Hypothesis Test\n",
    "\n",
    "cheaper_house = salePrice[salePrice > 400000]\n",
    "expensive_house = salePrice[salePrice <= 400000]\n",
    "\n",
    "class DiffMeansPermute(thinkstats2.HypothesisTest):\n",
    "\n",
    "    def TestStatistic(self, data):\n",
    "        group1, group2 = data\n",
    "        test_stat = abs(group1.mean() - group2.mean())\n",
    "        return test_stat\n",
    "\n",
    "    def MakeModel(self):\n",
    "        group1, group2 = self.data\n",
    "        self.n, self.m = len(group1), len(group2)\n",
    "        self.pool = np.hstack((group1, group2))\n",
    "\n",
    "    def RunModel(self):\n",
    "        np.random.shuffle(self.pool)\n",
    "        data = self.pool[:self.n], self.pool[self.n:]\n",
    "        return data\n",
    "\n",
    "data = cheaper_house, expensive_house\n",
    "ht = DiffMeansPermute(data)\n",
    "pvalue = ht.PValue()\n",
    "ht.PlotCdf()\n",
    "thinkplot.Show(xlabel='test stat', ylabel='CDF')"
   ]
  },
  {
   "cell_type": "code",
   "execution_count": 184,
   "id": "51b635b7",
   "metadata": {},
   "outputs": [
    {
     "name": "stdout",
     "output_type": "stream",
     "text": [
      "Small Bedrooms Mean Price: 1070698.9988304093 Big Bedrooms Mean Price: 2578815.481398476\n",
      "Small Living Mean Price: 997191947.1296216 Big Living Mean Price: 2873855491.754312\n",
      "Small Lot Mean Price: 4001827228.25644 Big Lot Mean Price: 43990765953.977806\n"
     ]
    }
   ],
   "source": [
    "big_house_bedroom_price = big_house * salePrice\n",
    "small_house_bedroom_price = little_house * salePrice\n",
    "print('Small Bedrooms Mean Price:', small_house_bedroom_price.mean(),\"Big Bedrooms Mean Price:\", big_house_bedroom_price.mean())\n",
    "\n",
    "living = df.sqftliving\n",
    "big_living = living[living > 2500]\n",
    "small_living = living[living <= 2500]\n",
    "\n",
    "big_living_price = big_living*salePrice\n",
    "small_living_price = small_living*salePrice\n",
    "print('Small Living Mean Price:', small_living_price.mean(),'Big Living Mean Price:', big_living_price.mean())\n",
    "\n",
    "lot = df.sqftlot\n",
    "big_lot = lot[lot > 10000]\n",
    "small_lot = lot[lot <= 10000]\n",
    "\n",
    "big_lot_price = big_lot * salePrice\n",
    "small_lot_price = small_lot * salePrice\n",
    "print('Small Lot Mean Price:', small_lot_price.mean(),'Big Lot Mean Price:', big_lot_price.mean())"
   ]
  },
  {
   "cell_type": "code",
   "execution_count": 178,
   "id": "4094aa4c",
   "metadata": {},
   "outputs": [
    {
     "data": {
      "text/html": [
       "<table class=\"simpletable\">\n",
       "<caption>OLS Regression Results</caption>\n",
       "<tr>\n",
       "  <th>Dep. Variable:</th>        <td>salePrice</td>    <th>  R-squared:         </th>  <td>   0.209</td>  \n",
       "</tr>\n",
       "<tr>\n",
       "  <th>Model:</th>                   <td>OLS</td>       <th>  Adj. R-squared:    </th>  <td>   0.208</td>  \n",
       "</tr>\n",
       "<tr>\n",
       "  <th>Method:</th>             <td>Least Squares</td>  <th>  F-statistic:       </th>  <td>   1131.</td>  \n",
       "</tr>\n",
       "<tr>\n",
       "  <th>Date:</th>             <td>Sat, 05 Mar 2022</td> <th>  Prob (F-statistic):</th>   <td>  0.00</td>   \n",
       "</tr>\n",
       "<tr>\n",
       "  <th>Time:</th>                 <td>15:13:47</td>     <th>  Log-Likelihood:    </th> <td>-1.8284e+05</td>\n",
       "</tr>\n",
       "<tr>\n",
       "  <th>No. Observations:</th>      <td> 12865</td>      <th>  AIC:               </th>  <td>3.657e+05</td> \n",
       "</tr>\n",
       "<tr>\n",
       "  <th>Df Residuals:</th>          <td> 12861</td>      <th>  BIC:               </th>  <td>3.657e+05</td> \n",
       "</tr>\n",
       "<tr>\n",
       "  <th>Df Model:</th>              <td>     3</td>      <th>                     </th>      <td> </td>     \n",
       "</tr>\n",
       "<tr>\n",
       "  <th>Covariance Type:</th>      <td>nonrobust</td>    <th>                     </th>      <td> </td>     \n",
       "</tr>\n",
       "</table>\n",
       "<table class=\"simpletable\">\n",
       "<tr>\n",
       "       <td></td>         <th>coef</th>     <th>std err</th>      <th>t</th>      <th>P>|t|</th>  <th>[0.025</th>    <th>0.975]</th>  \n",
       "</tr>\n",
       "<tr>\n",
       "  <th>Intercept</th>  <td> 2.431e+05</td> <td>  1.3e+04</td> <td>   18.642</td> <td> 0.000</td> <td> 2.18e+05</td> <td> 2.69e+05</td>\n",
       "</tr>\n",
       "<tr>\n",
       "  <th>sqftliving</th> <td>  197.2204</td> <td>    4.050</td> <td>   48.694</td> <td> 0.000</td> <td>  189.282</td> <td>  205.159</td>\n",
       "</tr>\n",
       "<tr>\n",
       "  <th>bedrooms</th>   <td>-2.433e+04</td> <td> 4453.533</td> <td>   -5.463</td> <td> 0.000</td> <td>-3.31e+04</td> <td>-1.56e+04</td>\n",
       "</tr>\n",
       "<tr>\n",
       "  <th>sqftlot</th>    <td>    0.0660</td> <td>    0.058</td> <td>    1.144</td> <td> 0.253</td> <td>   -0.047</td> <td>    0.179</td>\n",
       "</tr>\n",
       "</table>\n",
       "<table class=\"simpletable\">\n",
       "<tr>\n",
       "  <th>Omnibus:</th>       <td>14193.655</td> <th>  Durbin-Watson:     </th>  <td>   0.538</td>  \n",
       "</tr>\n",
       "<tr>\n",
       "  <th>Prob(Omnibus):</th>  <td> 0.000</td>   <th>  Jarque-Bera (JB):  </th> <td>1186076.759</td>\n",
       "</tr>\n",
       "<tr>\n",
       "  <th>Skew:</th>           <td> 5.724</td>   <th>  Prob(JB):          </th>  <td>    0.00</td>  \n",
       "</tr>\n",
       "<tr>\n",
       "  <th>Kurtosis:</th>       <td>48.625</td>   <th>  Cond. No.          </th>  <td>2.60e+05</td>  \n",
       "</tr>\n",
       "</table><br/><br/>Notes:<br/>[1] Standard Errors assume that the covariance matrix of the errors is correctly specified.<br/>[2] The condition number is large, 2.6e+05. This might indicate that there are<br/>strong multicollinearity or other numerical problems."
      ],
      "text/plain": [
       "<class 'statsmodels.iolib.summary.Summary'>\n",
       "\"\"\"\n",
       "                            OLS Regression Results                            \n",
       "==============================================================================\n",
       "Dep. Variable:              salePrice   R-squared:                       0.209\n",
       "Model:                            OLS   Adj. R-squared:                  0.208\n",
       "Method:                 Least Squares   F-statistic:                     1131.\n",
       "Date:                Sat, 05 Mar 2022   Prob (F-statistic):               0.00\n",
       "Time:                        15:13:47   Log-Likelihood:            -1.8284e+05\n",
       "No. Observations:               12865   AIC:                         3.657e+05\n",
       "Df Residuals:                   12861   BIC:                         3.657e+05\n",
       "Df Model:                           3                                         \n",
       "Covariance Type:            nonrobust                                         \n",
       "==============================================================================\n",
       "                 coef    std err          t      P>|t|      [0.025      0.975]\n",
       "------------------------------------------------------------------------------\n",
       "Intercept   2.431e+05    1.3e+04     18.642      0.000    2.18e+05    2.69e+05\n",
       "sqftliving   197.2204      4.050     48.694      0.000     189.282     205.159\n",
       "bedrooms   -2.433e+04   4453.533     -5.463      0.000   -3.31e+04   -1.56e+04\n",
       "sqftlot        0.0660      0.058      1.144      0.253      -0.047       0.179\n",
       "==============================================================================\n",
       "Omnibus:                    14193.655   Durbin-Watson:                   0.538\n",
       "Prob(Omnibus):                  0.000   Jarque-Bera (JB):          1186076.759\n",
       "Skew:                           5.724   Prob(JB):                         0.00\n",
       "Kurtosis:                      48.625   Cond. No.                     2.60e+05\n",
       "==============================================================================\n",
       "\n",
       "Notes:\n",
       "[1] Standard Errors assume that the covariance matrix of the errors is correctly specified.\n",
       "[2] The condition number is large, 2.6e+05. This might indicate that there are\n",
       "strong multicollinearity or other numerical problems.\n",
       "\"\"\""
      ]
     },
     "execution_count": 178,
     "metadata": {},
     "output_type": "execute_result"
    }
   ],
   "source": [
    "#Regression \n",
    "\n",
    "model = smf.ols ('salePrice ~ sqftliving + bedrooms + sqftlot', data=df)\n",
    "results = model.fit()\n",
    "results.summary()"
   ]
  }
 ],
 "metadata": {
  "kernelspec": {
   "display_name": "Python 3 (ipykernel)",
   "language": "python",
   "name": "python3"
  },
  "language_info": {
   "codemirror_mode": {
    "name": "ipython",
    "version": 3
   },
   "file_extension": ".py",
   "mimetype": "text/x-python",
   "name": "python",
   "nbconvert_exporter": "python",
   "pygments_lexer": "ipython3",
   "version": "3.9.7"
  }
 },
 "nbformat": 4,
 "nbformat_minor": 5
}
